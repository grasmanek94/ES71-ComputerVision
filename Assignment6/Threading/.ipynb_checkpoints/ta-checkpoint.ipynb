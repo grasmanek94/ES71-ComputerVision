{
 "cells": [
  {
   "cell_type": "code",
   "execution_count": 2,
   "metadata": {},
   "outputs": [
    {
     "name": "stdout",
     "output_type": "stream",
     "text": [
      "opencv version: 3.4.2\n",
      "panda version:  0.23.4\n",
      "C:\\Users\\Rafal\\Notebooks\\Assignment6\\Threading\n",
      "Frequency of unique values of the said array:\n",
      "[['00-01-TV' '00-15-HF' '00-36-PH' ... 'ZZ-95-93' 'ZZ-99-64' 'ZZ-99-81']\n",
      " ['1' '1' '1' ... '1' '1' '1']]\n"
     ]
    },
    {
     "data": {
      "text/plain": [
       "['C:\\\\Users\\\\Rafal\\\\Notebooks\\\\Assignment6\\\\Threading/../models/model-l1-ta.svm']"
      ]
     },
     "execution_count": 2,
     "metadata": {},
     "output_type": "execute_result"
    }
   ],
   "source": [
    "import cv2; print('opencv version:', cv2.__version__)\n",
    "import pandas as pd; print('panda version: ', pd.__version__)\n",
    "import random;\n",
    "from random import randint;\n",
    "import os; \n",
    "import numpy as np;\n",
    "from pathlib import Path\n",
    "from sklearn import svm\n",
    "from sklearn.svm import LinearSVC\n",
    "from sklearn.model_selection import cross_val_score\n",
    "from matplotlib import pyplot as plt; \n",
    "from skimage.filters import threshold_otsu\n",
    "import joblib\n",
    "print(os.getcwd())\n",
    "\n",
    "base_dir = os.getcwd() + \"/..\"\n",
    "dirs_data = []\n",
    "\n",
    "text = sorted(os.listdir(base_dir + '/data'))\n",
    "random.seed(448)\n",
    "random.shuffle(text)\n",
    "\n",
    "for item in text:\n",
    "    dirs_data.append([base_dir + '/data/' + item + '/plate.png',\n",
    "                     base_dir + '/data/' + item + '/car.jpg',\n",
    "                     item])\n",
    "    my_file = Path(base_dir + '/data/' + item + '/plate.png')\n",
    "    if not my_file.is_file():\n",
    "        print(\"Error: \" + item)\n",
    "    my_file = Path(base_dir + '/data/' + item + '/car.jpg') \n",
    "    if not my_file.is_file():\n",
    "        print(\"Error: \" + item)\n",
    "\n",
    "nPlates = 7000\n",
    "nPlatesCount = 0\n",
    "addedText = []\n",
    "plateImg = []\n",
    "binary = []\n",
    "\n",
    "for _dir, _car, _text in dirs_data[0:nPlates:1]:\n",
    "    img = cv2.imread(_dir,cv2.IMREAD_COLOR)\n",
    "    height, width, channels = img.shape\n",
    "    if(height == 50 and width == 235 and _text[0] != 'U'):\n",
    "        nPlatesCount+=1\n",
    "        addedText.append(_text)\n",
    "        resizedImg = cv2.resize(img, (0,0), fx=0.5, fy=0.5)\n",
    "        plateImg.append(cv2.cvtColor(resizedImg,cv2.COLOR_BGR2GRAY))\n",
    "        binary.append([])\n",
    "        \n",
    "text = addedText\n",
    "nPlates = nPlatesCount\n",
    "testData = pd.DataFrame(\n",
    "    {\n",
    "        \"text\": addedText,\n",
    "        \"plate\": plateImg,\n",
    "        \"plate_binary\": binary\n",
    "    }\n",
    ")\n",
    "testData.reset_index(drop=True, inplace=True)\n",
    "\n",
    "for i in range(nPlatesCount):\n",
    "    img_details = plateImg[i] < threshold_otsu(plateImg[i])\n",
    "    testData.plate_binary[i] = img_details.reshape(-1)\n",
    "    \n",
    "image_data, target_data = testData.plate_binary, testData.text\n",
    "target_data_only_first = []\n",
    "\n",
    "for x in target_data:\n",
    "    target_data_only_first.append(x);\n",
    "    \n",
    "image_data_norm = []\n",
    "for x in image_data:\n",
    "    image_data_norm.append(x);\n",
    "        \n",
    "image_data = image_data_norm\n",
    "target_data = target_data_only_first\n",
    "\n",
    "clf = svm.LinearSVC(penalty='l1', \n",
    "                    loss='squared_hinge', \n",
    "                    dual=False,\n",
    "                    tol=1e-3)\n",
    "\n",
    "clf.fit(image_data, target_data)\n",
    "\n",
    "joblib.dump(clf, base_dir + \"/models/model-l1-ta.svm\")"
   ]
  }
 ],
 "metadata": {
  "kernelspec": {
   "display_name": "Python 3",
   "language": "python",
   "name": "python3"
  },
  "language_info": {
   "codemirror_mode": {
    "name": "ipython",
    "version": 3
   },
   "file_extension": ".py",
   "mimetype": "text/x-python",
   "name": "python",
   "nbconvert_exporter": "python",
   "pygments_lexer": "ipython3",
   "version": "3.7.0"
  }
 },
 "nbformat": 4,
 "nbformat_minor": 2
}
