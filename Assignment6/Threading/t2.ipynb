{
 "cells": [
  {
   "cell_type": "code",
   "execution_count": 1,
   "metadata": {},
   "outputs": [
    {
     "name": "stdout",
     "output_type": "stream",
     "text": [
      "opencv version: 3.4.2\n",
      "panda version:  0.23.4\n",
      "C:\\Users\\Rafal\\Notebooks\\Assignment6\\Threading\n",
      "Frequency of unique values of the said array:\n",
      "[['-' '0' '1' '2' '3' '4' '5' '6' '7' '8' '9' 'A' 'B' 'D' 'E' 'F' 'G' 'H'\n",
      "  'J' 'K' 'L' 'M' 'N' 'P' 'R' 'S' 'T' 'U' 'V' 'X' 'Y' 'Z']\n",
      " ['926' '218' '236' '227' '205' '254' '236' '241' '234' '232' '225' '2'\n",
      "  '134' '160' '98' '123' '151' '209' '155' '131' '313' '104' '329' '199'\n",
      "  '225' '123' '127' '1' '146' '176' '9' '235']]\n"
     ]
    },
    {
     "name": "stderr",
     "output_type": "stream",
     "text": [
      "C:\\Programs\\Python36\\Anaconda3\\lib\\site-packages\\sklearn\\model_selection\\_split.py:605: Warning: The least populated class in y has only 1 members, which is too few. The minimum number of members in any class cannot be less than n_splits=4.\n",
      "  % (min_groups, self.n_splits)), Warning)\n"
     ]
    },
    {
     "name": "stdout",
     "output_type": "stream",
     "text": [
      "Cross Validation Result for  4  -fold\n",
      "[98.07333748 97.6875     97.48743719 97.85217941]\n"
     ]
    },
    {
     "data": {
      "text/plain": [
       "['C:\\\\Users\\\\Rafal\\\\Notebooks\\\\Assignment6\\\\Threading/../models/model-l1-t1.svm']"
      ]
     },
     "execution_count": 1,
     "metadata": {},
     "output_type": "execute_result"
    }
   ],
   "source": [
    "letter_index = 1\n",
    "\n",
    "import cv2; print('opencv version:', cv2.__version__)\n",
    "import pandas as pd; print('panda version: ', pd.__version__)\n",
    "import random;\n",
    "from random import randint;\n",
    "import os; \n",
    "import numpy as np;\n",
    "from pathlib import Path\n",
    "from sklearn import svm\n",
    "from sklearn.svm import LinearSVC\n",
    "from sklearn.model_selection import cross_val_score\n",
    "from matplotlib import pyplot as plt; \n",
    "from skimage.filters import threshold_otsu\n",
    "import joblib\n",
    "print(os.getcwd())\n",
    "\n",
    "base_dir = os.getcwd() + \"/..\"\n",
    "dirs_data = []\n",
    "\n",
    "text = sorted(os.listdir(base_dir + '/data'))\n",
    "random.seed(448)\n",
    "random.shuffle(text)\n",
    "\n",
    "for item in text:\n",
    "    dirs_data.append([base_dir + '/data/' + item + '/plate.png',\n",
    "                     base_dir + '/data/' + item + '/car.jpg',\n",
    "                     item])\n",
    "    my_file = Path(base_dir + '/data/' + item + '/plate.png')\n",
    "    if not my_file.is_file():\n",
    "        print(\"Error: \" + item)\n",
    "    my_file = Path(base_dir + '/data/' + item + '/car.jpg') \n",
    "    if not my_file.is_file():\n",
    "        print(\"Error: \" + item)\n",
    "\n",
    "nPlates = 7000\n",
    "nPlatesCount = 0\n",
    "addedText = []\n",
    "plateImg = []\n",
    "binary = []\n",
    "\n",
    "for _dir, _car, _text in dirs_data[0:nPlates:1]:\n",
    "    img = cv2.imread(_dir,cv2.IMREAD_COLOR)\n",
    "    height, width, channels = img.shape\n",
    "    if(height == 50 and width == 235 and _text[0] != 'U'):\n",
    "        nPlatesCount+=1\n",
    "        addedText.append(_text)\n",
    "        resizedImg = cv2.resize(img, (0,0), fx=0.5, fy=0.5)\n",
    "        plateImg.append(cv2.cvtColor(resizedImg,cv2.COLOR_BGR2GRAY))\n",
    "        binary.append([])\n",
    "        \n",
    "text = addedText\n",
    "nPlates = nPlatesCount\n",
    "testData = pd.DataFrame(\n",
    "    {\n",
    "        \"text\": addedText,\n",
    "        \"plate\": plateImg,\n",
    "        \"plate_binary\": binary\n",
    "    }\n",
    ")\n",
    "testData.reset_index(drop=True, inplace=True)\n",
    "\n",
    "for i in range(nPlatesCount):\n",
    "    img_details = plateImg[i] < threshold_otsu(plateImg[i])\n",
    "    testData.plate_binary[i] = img_details.reshape(-1)\n",
    "    \n",
    "image_data, target_data = testData.plate_binary, testData.text\n",
    "target_data_only_first = []\n",
    "\n",
    "for x in target_data:\n",
    "    target_data_only_first.append(x[letter_index]);\n",
    "    \n",
    "image_data_norm = []\n",
    "for x in image_data:\n",
    "    image_data_norm.append(x);\n",
    "        \n",
    "image_data = image_data_norm\n",
    "target_data = target_data_only_first\n",
    "\n",
    "#print(len(image_data), len(target_data))\n",
    "#print(target_data)\n",
    "#print(image_data)\n",
    "unique_elements, counts_elements = np.unique(target_data, return_counts=True)\n",
    "print(\"Frequency of unique values of the said array:\")\n",
    "print(np.asarray((unique_elements, counts_elements)))\n",
    "\n",
    "def cross_validation(model, num_of_fold, train_data, train_label):\n",
    "    # this uses the concept of cross validation to measure the accuracy\n",
    "    # of a model, the num_of_fold determines the type of validation\n",
    "    # e.g if num_of_fold is 4, then we are performing a 4-fold cross validation\n",
    "    # it will divide the dataset into 4 and use 1/4 of it for testing\n",
    "    # and the remaining 3/4 for the training\n",
    "    accuracy_result = cross_val_score(model, train_data, train_label,\n",
    "                                      cv=num_of_fold)\n",
    "    print(\"Cross Validation Result for \", str(num_of_fold), \" -fold\")\n",
    "\n",
    "    print(accuracy_result * 100)\n",
    "\n",
    "clf = svm.LinearSVC(penalty='l1', \n",
    "                    loss='squared_hinge', \n",
    "                    dual=False,\n",
    "                    tol=1e-3)\n",
    "\n",
    "cross_validation(clf, 4, image_data, target_data)\n",
    "clf.fit(image_data, target_data)\n",
    "\n",
    "joblib.dump(clf, base_dir + \"/models/model-l1-t\" + str(letter_index) + \".svm\")"
   ]
  }
 ],
 "metadata": {
  "kernelspec": {
   "display_name": "Python 3",
   "language": "python",
   "name": "python3"
  },
  "language_info": {
   "codemirror_mode": {
    "name": "ipython",
    "version": 3
   },
   "file_extension": ".py",
   "mimetype": "text/x-python",
   "name": "python",
   "nbconvert_exporter": "python",
   "pygments_lexer": "ipython3",
   "version": "3.7.0"
  }
 },
 "nbformat": 4,
 "nbformat_minor": 2
}
