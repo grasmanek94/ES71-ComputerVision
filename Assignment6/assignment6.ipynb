{
 "cells": [
  {
   "cell_type": "markdown",
   "metadata": {},
   "source": [
    "Todo list:\n",
    "    - describe difference between linearSVM and SVM with linear kernel.\n",
    "    - document everything"
   ]
  },
  {
   "cell_type": "markdown",
   "metadata": {},
   "source": [
    "# License plate OCR\n",
    "Here text recognition is applied to licenseplates to retrieve the plate number."
   ]
  },
  {
   "cell_type": "markdown",
   "metadata": {},
   "source": [
    "## To start: dependancies \n",
    "This are the dependencies that are used.\n",
    "\n",
    "* Cv2 is used to load and alter the image becaure the machine learning.\n",
    "* Panda is used to create the dataframes in wich the data is contained.\n",
    "* Random is used to shuffle the images.\n",
    "* Os is used for system opperations as retrieving file or path names.\n",
    "* Np is used for some arrays.\n",
    "* Path is used to combine paths.\n",
    "* sklearn is used for the machine learning.\n",
    "* Plt is used to plot images.\n",
    "* Threshold_otsu is a filter applied to the images.\n",
    "* joblib is used to save the generated model.\n"
   ]
  },
  {
   "cell_type": "code",
   "execution_count": 1,
   "metadata": {},
   "outputs": [
    {
     "name": "stdout",
     "output_type": "stream",
     "text": [
      "opencv version: 3.4.2\n",
      "panda version:  0.23.4\n",
      "C:\\Users\\Rafal\\Notebooks\\Assignment6\n"
     ]
    }
   ],
   "source": [
    "import cv2; print('opencv version:', cv2.__version__)\n",
    "import pandas as pd; print('panda version: ', pd.__version__)\n",
    "import random;\n",
    "from random import randint;\n",
    "import os; \n",
    "import numpy as np;\n",
    "from pathlib import Path\n",
    "from sklearn import svm\n",
    "from sklearn.svm import LinearSVC\n",
    "from sklearn.model_selection import cross_val_score\n",
    "from matplotlib import pyplot as plt; \n",
    "from skimage.filters import threshold_otsu\n",
    "import joblib\n",
    "print(os.getcwd())\n",
    "\n",
    "base_dir = os.getcwd()\n"
   ]
  },
  {
   "cell_type": "markdown",
   "metadata": {},
   "source": [
    "## Setup the Datafetching\n",
    "The data used will be gathered from the filesystem, The data consists of car and plate images (2 differen images) in a map named after the licenseplate.\n",
    "\n",
    "Firstly, all these names are alphebeticly sorted in a list and then sorted with a preset seed to keep the training data as constant as possible. \n",
    "\n",
    "Then its checked if all the data is present. The scraper used wasnt able to get all the images and there where a few missing images, this check will filter those out."
   ]
  },
  {
   "cell_type": "code",
   "execution_count": 2,
   "metadata": {},
   "outputs": [],
   "source": [
    "dirs_data = []\n",
    "\n",
    "text = sorted(os.listdir(base_dir + '/data'))\n",
    "random.seed(448)\n",
    "random.shuffle(text)\n",
    "\n",
    "for item in text:\n",
    "    dirs_data.append([base_dir + '/data/' + item + '/plate.png',\n",
    "                     base_dir + '/data/' + item + '/car.jpg',\n",
    "                     item])\n",
    "    my_file = Path(base_dir + '/data/' + item + '/plate.png')\n",
    "    if not my_file.is_file():\n",
    "        print(\"Error: \" + item)\n",
    "    my_file = Path(base_dir + '/data/' + item + '/car.jpg') \n",
    "    if not my_file.is_file():\n",
    "        print(\"Error: \" + item)"
   ]
  },
  {
   "cell_type": "markdown",
   "metadata": {},
   "source": [
    "## Loading...\n",
    "When the data is known the images are loaded into the program. Here only the plate images are used to increase learning speed and reduce memory usage.\n",
    "\n",
    "There are several sizes of plates available, for example the wide plates found on most cars and the taller but less wide plates found on motorcycles, and the machine learning algorithme can only handle 1 size. Rescaling is not an option because the dimensions are too different and would add too much distortion to the images, so the odd plates are filterd out. Every plate that has the correct size is resized to half its size to reduce the amount of learning time by roughly 75%. Plates starting with a 'U' are also not used because of its low occurence.\n",
    "\n",
    "The letters of the plate are seperated to train with each of them. This will be done seperatly because there wouldn't be enough examples of eache plate to train the algorithm. But when seperating the letter it will train for each letter seperatly and thus have more samples from the same letter.\n"
   ]
  },
  {
   "cell_type": "code",
   "execution_count": 3,
   "metadata": {},
   "outputs": [],
   "source": [
    "nPlates = 7000\n",
    "nPlatesCount = 0\n",
    "addedText = []\n",
    "plateImg = []\n",
    "binary = []\n",
    "\n",
    "for _dir, _car, _text in dirs_data[0:nPlates:1]:\n",
    "    img = cv2.imread(_dir,cv2.IMREAD_COLOR)\n",
    "    height, width, channels = img.shape\n",
    "    if(height == 50 and width == 235 and _text[0] != 'U'):\n",
    "        nPlatesCount+=1\n",
    "        addedText.append(_text)\n",
    "        resizedImg = cv2.resize(img, (0,0), fx=0.5, fy=0.5)\n",
    "        plateImg.append(cv2.cvtColor(resizedImg,cv2.COLOR_BGR2GRAY))\n",
    "        binary.append([])\n",
    "        \n",
    "text = addedText\n",
    "nPlates = nPlatesCount\n",
    "testData = pd.DataFrame(\n",
    "    {\n",
    "        \"text\": addedText,\n",
    "        \"plate\": plateImg,\n",
    "        \"plate_binary\": binary\n",
    "    }\n",
    ")\n",
    "testData.reset_index(drop=True, inplace=True)"
   ]
  },
  {
   "cell_type": "markdown",
   "metadata": {},
   "source": [
    "the images are now loaded.\n",
    "Here a quick peek is given into the plates found in the list."
   ]
  },
  {
   "cell_type": "code",
   "execution_count": 4,
   "metadata": {},
   "outputs": [
    {
     "data": {
      "text/plain": [
       "<matplotlib.image.AxesImage at 0x7f6798ff6cc0>"
      ]
     },
     "execution_count": 4,
     "metadata": {},
     "output_type": "execute_result"
    },
    {
     "data": {
      "image/png": "[encoded data removed]",
      "text/plain": [
       "<Figure size 432x288 with 1 Axes>"
      ]
     },
     "metadata": {
      "needs_background": "light"
     },
     "output_type": "display_data"
    }
   ],
   "source": [
    "plt.imshow(testData.plate[9], cmap='gray')"
   ]
  },
  {
   "cell_type": "markdown",
   "metadata": {},
   "source": [
    "Convert the pictures to a binary black and white and reshape them to be 1 layer thick arrays. This is because our OCR doesn't need to work with colors."
   ]
  },
  {
   "cell_type": "code",
   "execution_count": 5,
   "metadata": {},
   "outputs": [],
   "source": [
    "for i in range(nPlatesCount):\n",
    "    img_details = plateImg[i] < threshold_otsu(plateImg[i])\n",
    "    testData.plate_binary[i] = img_details.reshape(-1)"
   ]
  },
  {
   "cell_type": "markdown",
   "metadata": {},
   "source": [
    "Only 1 letter is thought to the machine at a time. Because all the plates used are unique, it's not possible to train the algorithm with the whole plate. But most letters are used more ofthen then once, therefore it's better to train each letter individually. "
   ]
  },
  {
   "cell_type": "code",
   "execution_count": 6,
   "metadata": {},
   "outputs": [
    {
     "name": "stdout",
     "output_type": "stream",
     "text": [
      "Frequency of unique values of the said array:\n",
      "[['0' '1' '2' '3' '4' '5' '6' '7' '8' '9' 'A' 'B' 'C' 'D' 'E' 'F' 'G' 'H'\n",
      "  'J' 'K' 'L' 'M' 'N' 'O' 'P' 'R' 'S' 'T' 'V' 'W' 'X' 'Y' 'Z']\n",
      " ['227' '334' '321' '309' '313' '327' '318' '335' '334' '347' '265' '329'\n",
      "  '32' '219' '6' '38' '131' '136' '143' '111' '47' '6' '162' '541' '160'\n",
      "  '182' '139' '120' '225' '69' '75' '19' '64']]\n"
     ]
    }
   ],
   "source": [
    "image_data, target_data = testData.plate_binary, testData.text\n",
    "target_data_only_first = []\n",
    "\n",
    "for x in target_data:\n",
    "    target_data_only_first.append(x[0]);\n",
    "\n",
    "target_data = target_data_only_first\n",
    "\n",
    "unique_elements, counts_elements = np.unique(target_data, return_counts=True)\n",
    "print(\"Frequency of unique values of the said array:\")\n",
    "print(np.asarray((unique_elements, counts_elements)))\n"
   ]
  },
  {
   "cell_type": "markdown",
   "metadata": {},
   "source": [
    "Finnally the data is complete. The training can begin. \n",
    "\n",
    "For this, a LinearSVC is chosen, a normal SVC with a linear kernal has been tried, but the LinearSVC proved to be a lot faster and diliver improved results (93% accuracy vs 98%). The L1 penalty is used because there is no missing data in the dataset. Dual is false for optimalization because the data is bigger then the amount of features. the Tollerance of stopping criteria (tol) is set to 1e-3, this determains the accuracy of the learning and thus the fitment and time. higher value is more detailed fitment but also longer learning time. \n",
    "\n",
    "After the training is done, it is validated and prepared. Then the model is fitted (the actual training)."
   ]
  },
  {
   "cell_type": "code",
   "execution_count": 31,
   "metadata": {},
   "outputs": [
    {
     "name": "stdout",
     "output_type": "stream",
     "text": [
      "Cross Validation Result for  4  -fold\n",
      "[98.07333748 97.56402249 97.92843691 97.78621126]\n"
     ]
    },
    {
     "data": {
      "text/plain": [
       "LinearSVC(C=1.0, class_weight=None, dual=False, fit_intercept=True,\n",
       "     intercept_scaling=1, loss='squared_hinge', max_iter=1000,\n",
       "     multi_class='ovr', penalty='l1', random_state=None, tol=0.001,\n",
       "     verbose=0)"
      ]
     },
     "execution_count": 31,
     "metadata": {},
     "output_type": "execute_result"
    }
   ],
   "source": [
    "def cross_validation(model, num_of_fold, train_data, train_label):\n",
    "    # this uses the concept of cross validation to measure the accuracy\n",
    "    # of a model, the num_of_fold determines the type of validation\n",
    "    # e.g if num_of_fold is 4, then we are performing a 4-fold cross validation\n",
    "    # it will divide the dataset into 4 and use 1/4 of it for testing\n",
    "    # and the remaining 3/4 for the training\n",
    "    accuracy_result = cross_val_score(model, train_data, train_label,\n",
    "                                      cv=num_of_fold)\n",
    "    print(\"Cross Validation Result for \", str(num_of_fold), \" -fold\")\n",
    "\n",
    "    print(accuracy_result * 100)\n",
    "\n",
    "clf = svm.LinearSVC(penalty='l1', \n",
    "                    loss='squared_hinge', \n",
    "                    dual=False,\n",
    "                    tol=1e-3)\n",
    "\n",
    "cross_validation(clf, 4, image_data, target_data)\n",
    "clf.fit(image_data, target_data)\n"
   ]
  },
  {
   "cell_type": "markdown",
   "metadata": {},
   "source": [
    "Then the model is saved for later use. "
   ]
  },
  {
   "cell_type": "code",
   "execution_count": 32,
   "metadata": {},
   "outputs": [
    {
     "data": {
      "text/plain": [
       "['/home/bas/gitRepos/ES71-ComputerVision/Assignment6/models/model-l1.svm']"
      ]
     },
     "execution_count": 32,
     "metadata": {},
     "output_type": "execute_result"
    }
   ],
   "source": [
    "joblib.dump(clf, base_dir + \"/models/model-l1.svm\")"
   ]
  },
  {
   "cell_type": "markdown",
   "metadata": {},
   "source": [
    "In map Assignment6/Threading are the previous steps repeated 9 times, one time for each letter and one time to test the whole plate at once. These can be started up seperatly and then loaded into this notebook. Each letter should be done quickly, and with the manual threading utilized it should be done withing 10 - 30 minutes. Learning the whole plate does take a lot longer. \n",
    "\n",
    "t0 - t7 contains each letter algorithm \n",
    "\n",
    "ta      contains the full plate algorithm \n"
   ]
  },
  {
   "cell_type": "code",
   "execution_count": 14,
   "metadata": {},
   "outputs": [],
   "source": [
    "clf = [\n",
    "    joblib.load(base_dir + \"/models/model-l1-t0.svm\"),\n",
    "    joblib.load(base_dir + \"/models/model-l1-t1.svm\"),\n",
    "    joblib.load(base_dir + \"/models/model-l1-t2.svm\"),\n",
    "    joblib.load(base_dir + \"/models/model-l1-t3.svm\"),\n",
    "    joblib.load(base_dir + \"/models/model-l1-t4.svm\"),\n",
    "    joblib.load(base_dir + \"/models/model-l1-t5.svm\"),\n",
    "    joblib.load(base_dir + \"/models/model-l1-t6.svm\"),\n",
    "    joblib.load(base_dir + \"/models/model-l1-t7.svm\"),\n",
    "    joblib.load(base_dir + \"/models/model-l1-ta.svm\"),\n",
    "]"
   ]
  },
  {
   "cell_type": "markdown",
   "metadata": {},
   "source": [
    "When the new algorithms are loaded in they can be used to read a plate.\n",
    "This will put use our two results, one with the 8 letters detected individually and one with the full plate trained (instead of 8 trainings with one character). "
   ]
  },
  {
   "cell_type": "code",
   "execution_count": 16,
   "metadata": {},
   "outputs": [
    {
     "name": "stdout",
     "output_type": "stream",
     "text": [
      "['R']['B']['-']['6']['4']['6']['-']['X']\n",
      "['SV-HB-26']\n"
     ]
    },
    {
     "data": {
      "image/png": "[encoded data removed]",
      "text/plain": [
       "<Figure size 432x288 with 1 Axes>"
      ]
     },
     "metadata": {
      "needs_background": "light"
     },
     "output_type": "display_data"
    }
   ],
   "source": [
    "untrained_dirs_data = []\n",
    "\n",
    "untrained_text = sorted(os.listdir(base_dir + '/data_untrained'))\n",
    "\n",
    "for item in untrained_text:\n",
    "    untrained_dirs_data.append([base_dir + '/data_untrained/' + item + '/plate.png',\n",
    "                     base_dir + '/data_untrained/' + item + '/car.jpg',\n",
    "                     item])\n",
    "    my_file = Path(base_dir + '/data_untrained/' + item + '/plate.png')\n",
    "    if not my_file.is_file():\n",
    "        print(\"Error: \" + item)\n",
    "    my_file = Path(base_dir + '/data_untrained/' + item + '/car.jpg') \n",
    "    if not my_file.is_file():\n",
    "        print(\"Error: \" + item)\n",
    "\n",
    "untrained_nPlates = 1\n",
    "untrained_nPlatesCount = 0\n",
    "untrained_addedText = []\n",
    "untrained_plateImg = []\n",
    "untrained_binary = []\n",
    "\n",
    "for _dir, _car, _text in untrained_dirs_data:\n",
    "    img = cv2.imread(_dir,cv2.IMREAD_COLOR)\n",
    "    height, width, channels = img.shape\n",
    "    if(height == 50 and width == 235):    \n",
    "        untrained_nPlatesCount+=1\n",
    "        untrained_addedText.append(_text)\n",
    "        resizedImg = cv2.resize(img, (0,0), fx=0.5, fy=0.5)\n",
    "        untrained_plateImg.append(cv2.cvtColor(resizedImg,cv2.COLOR_BGR2GRAY))\n",
    "        untrained_binary.append([])\n",
    "        \n",
    "untrained_text = untrained_addedText\n",
    "untrained_nPlates = untrained_nPlatesCount\n",
    "untrained_testData = pd.DataFrame(\n",
    "    {\n",
    "        \"text\": untrained_addedText,\n",
    "        \"plate\": untrained_plateImg,\n",
    "        \"plate_binary\": untrained_binary\n",
    "    }\n",
    ")\n",
    "\n",
    "untrained_testData.reset_index(drop=True, inplace=True)\n",
    "\n",
    "for i in range(untrained_nPlatesCount):\n",
    "    untrained_img_details = untrained_plateImg[i] < threshold_otsu(untrained_plateImg[i])\n",
    "    untrained_testData.plate_binary[i] = untrained_img_details.reshape(1,-1)\n",
    "    \n",
    "image_to_predict = 2\n",
    "\n",
    "plt.imshow(untrained_testData.plate[image_to_predict], cmap='gray')\n",
    "plate = \"\"\n",
    "\n",
    "for i in range(8):\n",
    "    plate += str(clf[i].predict(untrained_testData.plate_binary[image_to_predict].reshape(1,-1)))\n",
    "print(plate)\n",
    "\n",
    "print(str(clf[8].predict(untrained_testData.plate_binary[image_to_predict].reshape(1,-1))))"
   ]
  },
  {
   "cell_type": "markdown",
   "metadata": {},
   "source": [
    "The result is the plate number as text from an input image.\n",
    "\n",
    "This output is very accurate when the individual letters are detected and a plate from the same source (but not the same set) as the learning data is used. When a real plate is cut out and transformed to the same shape it still doesn't work properly. This is because the spacing and letters type are slightly different, which means the training data isn't diverse enough. \n",
    "\n",
    "When detecting the plate number in one go it will fail (using the algorithm trained on full plate at once). This is because the training cannot be propperly done as each plate has only 1 data value and will only appear once. So the algorithm is guessing one of the data values.\n"
   ]
  },
  {
   "cell_type": "code",
   "execution_count": null,
   "metadata": {},
   "outputs": [],
   "source": []
  }
 ],
 "metadata": {
  "kernelspec": {
   "display_name": "Python 3",
   "language": "python",
   "name": "python3"
  },
  "language_info": {
   "codemirror_mode": {
    "name": "ipython",
    "version": 3
   },
   "file_extension": ".py",
   "mimetype": "text/x-python",
   "name": "python",
   "nbconvert_exporter": "python",
   "pygments_lexer": "ipython3",
   "version": "3.7.0"
  }
 },
 "nbformat": 4,
 "nbformat_minor": 2
}
